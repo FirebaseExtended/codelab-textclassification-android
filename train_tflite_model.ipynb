{
  "nbformat": 4,
  "nbformat_minor": 0,
  "metadata": {
    "colab": {
      "name": "Train text classification models with TFLite Model Maker.ipynb",
      "provenance": [],
      "collapsed_sections": [],
      "toc_visible": true
    },
    "kernelspec": {
      "name": "python3",
      "display_name": "Python 3"
    },
    "accelerator": "GPU"
  },
  "cells": [
    {
      "cell_type": "markdown",
      "metadata": {
        "id": "ueWs88mW64dQ"
      },
      "source": [
        "##### Copyright 2020 The TensorFlow Authors."
      ]
    },
    {
      "cell_type": "code",
      "metadata": {
        "id": "lKuRIgOe6tN8",
        "cellView": "form"
      },
      "source": [
        "#@title Licensed under the Apache License, Version 2.0 (the \"License\");\n",
        "# you may not use this file except in compliance with the License.\n",
        "# You may obtain a copy of the License at\n",
        "#\n",
        "# https://www.apache.org/licenses/LICENSE-2.0\n",
        "#\n",
        "# Unless required by applicable law or agreed to in writing, software\n",
        "# distributed under the License is distributed on an \"AS IS\" BASIS,\n",
        "# WITHOUT WARRANTIES OR CONDITIONS OF ANY KIND, either express or implied.\n",
        "# See the License for the specific language governing permissions and\n",
        "# limitations under the License."
      ],
      "execution_count": null,
      "outputs": []
    },
    {
      "cell_type": "markdown",
      "metadata": {
        "id": "TyF17hj-CBW0"
      },
      "source": [
        "## Train sentiment analysis models with TensorFlow Lite Model Maker\n",
        "\n",
        "In this step, we will use the [Stanford Sentiment Treebank v2](https://nlp.stanford.edu/~socherr/EMNLP2013_RNTN.pdf)(SST-2) dataset to train the model. The dataset contains more than 11,000 sentences from movie reviews and the sentiment (positive or negative) of each sentence. Here is some examples from the dataset:\n",
        "\n",
        "| Sentence | Sentiment |\n",
        "|-|-|\n",
        "| This is a film well worth seeing , talking and singing heads and all . | Positive |\n",
        "| What really surprises about Wisegirls is its low-key quality and genuine tenderness . | Positive |\n",
        "| Though everything might be literate and smart , it never took off and always seemed static . | Negative |\n",
        "\n",
        "We will use TensorFlow Lite Model Maker to train **text classification** models with this dataset. **Sentiment analysis** is one type of **text classification** because its goal is to classify a body of text into positive or negative sentiment. We will train two models:\n",
        "* An `average word vector` model: This is a light-weight model which is less 1MB and also runs very fast.\n",
        "* A `MobileBERT` model: This is a more accurate but larger model.\n",
        "\n",
        "You also can choose a model architecture in advance and train only one model. However, it is recommended to train multiple models with different architecture and examine the trade-off between model size and accuracy and see which model is more suitable for your use case.\n",
        "\n",
        "*Note: Before you proceed, make sure that the Colab notebook is in GPU mode to speed up model training.*"
      ]
    },
    {
      "cell_type": "markdown",
      "metadata": {
        "id": "Emuo3vN6HHgR"
      },
      "source": [
        "### Install the required packages\n",
        "\n",
        "Let's start by installing TFLite Model Maker and import the required packages."
      ]
    },
    {
      "cell_type": "code",
      "metadata": {
        "id": "Y3hEKemiHTcs"
      },
      "source": [
        "!pip install -q tflite-model-maker"
      ],
      "execution_count": null,
      "outputs": []
    },
    {
      "cell_type": "code",
      "metadata": {
        "id": "60bgUw9CHrLg"
      },
      "source": [
        "import numpy as np\n",
        "import os\n",
        "\n",
        "from tflite_model_maker import configs\n",
        "from tflite_model_maker import ExportFormat\n",
        "from tflite_model_maker import model_spec\n",
        "from tflite_model_maker import text_classifier\n",
        "from tflite_model_maker.text_classifier import DataLoader\n",
        "\n",
        "import tensorflow as tf\n",
        "assert tf.__version__.startswith('2')"
      ],
      "execution_count": null,
      "outputs": []
    },
    {
      "cell_type": "markdown",
      "metadata": {
        "id": "tQV0AGk0GzcZ"
      },
      "source": [
        "### Download the SST-2 dataset"
      ]
    },
    {
      "cell_type": "code",
      "metadata": {
        "id": "T1w4EXleB7Or"
      },
      "source": [
        "data_dir = tf.keras.utils.get_file(\n",
        "      fname='SST-2.zip',\n",
        "      origin='https://dl.fbaipublicfiles.com/glue/data/SST-2.zip',\n",
        "      extract=True)\n",
        "data_dir = os.path.join(os.path.dirname(data_dir), 'SST-2')"
      ],
      "execution_count": null,
      "outputs": []
    },
    {
      "cell_type": "markdown",
      "metadata": {
        "id": "8mE7O0f8IWlD"
      },
      "source": [
        "## Train our first model: an `Average Word Vector` model\n",
        "\n",
        "This is the light-weight model architecture that can be trained in a few minutes. The model is small and runs fast with decent accuracy."
      ]
    },
    {
      "cell_type": "markdown",
      "metadata": {
        "id": "QBYmPuWkIthx"
      },
      "source": [
        "### Specify the model architecture"
      ]
    },
    {
      "cell_type": "code",
      "metadata": {
        "id": "5uqVRE7zIjU0"
      },
      "source": [
        "awv_spec = model_spec.get('average_word_vec')"
      ],
      "execution_count": null,
      "outputs": []
    },
    {
      "cell_type": "markdown",
      "metadata": {
        "id": "GeP5Np-IIFF3"
      },
      "source": [
        "### Pre-process data\n",
        "Convert the SST-2 dataset to input format that is required by TFLite Model Maker. Please note that there are two portion of our dataset:\n",
        "* `train.tsv`: The **training** dataset that the model will learn from.\n",
        "* `dev.tsv`: The **evaluation** dataset that the model doesn't see when it is trained. This is used to test if the sentiment analysis is able to generalize well on new data that it has never seen before."
      ]
    },
    {
      "cell_type": "code",
      "metadata": {
        "id": "2h9s8IVyIEmS"
      },
      "source": [
        "awv_train_data = DataLoader.from_csv(\n",
        "      filename=os.path.join(os.path.join(data_dir, 'train.tsv')),\n",
        "      text_column='sentence',\n",
        "      label_column='label',\n",
        "      model_spec=awv_spec,\n",
        "      delimiter='\\t',\n",
        "      is_training=True)\n",
        "awv_test_data = DataLoader.from_csv(\n",
        "      filename=os.path.join(os.path.join(data_dir, 'dev.tsv')),\n",
        "      text_column='sentence',\n",
        "      label_column='label',\n",
        "      model_spec=awv_spec,\n",
        "      delimiter='\\t',\n",
        "      is_training=False)"
      ],
      "execution_count": null,
      "outputs": []
    },
    {
      "cell_type": "markdown",
      "metadata": {
        "id": "-N21UUIeI1MU"
      },
      "source": [
        "### Train the model\n",
        "We use TFLite Model Maker to train a TensorFlow model with the training dataset."
      ]
    },
    {
      "cell_type": "code",
      "metadata": {
        "id": "8PkcNAh6I859"
      },
      "source": [
        "awv_model = text_classifier.create(awv_train_data, model_spec=awv_spec, epochs=10)"
      ],
      "execution_count": null,
      "outputs": []
    },
    {
      "cell_type": "markdown",
      "metadata": {
        "id": "yoBLTfv-IDYd"
      },
      "source": [
        "### Evaluate the model\n",
        "\n",
        "Let's see how the model performs against new data in the evaluation dataset that it has never seen before."
      ]
    },
    {
      "cell_type": "code",
      "metadata": {
        "id": "z5rxsIG9JhKB"
      },
      "source": [
        "awv_model.evaluate(awv_test_data)"
      ],
      "execution_count": null,
      "outputs": []
    },
    {
      "cell_type": "markdown",
      "metadata": {
        "id": "7yZcFfVyJiVf"
      },
      "source": [
        "### Export the model into TensorFlow Lite format"
      ]
    },
    {
      "cell_type": "code",
      "metadata": {
        "id": "qxFPFO6eJl2A"
      },
      "source": [
        "awv_model.export(export_dir='average_word_vec/')"
      ],
      "execution_count": null,
      "outputs": []
    },
    {
      "cell_type": "markdown",
      "metadata": {
        "id": "e-EOzxUgNfMg"
      },
      "source": [
        "## Optional: Train our second model: an `MobileBERT` model\n",
        "\n",
        "`MobileBERT` models are more accurate than `Average Word Vector` models but they are also larger. It will take about 30 minutes to be train our `MobileBERT` sentiment analysis model."
      ]
    },
    {
      "cell_type": "markdown",
      "metadata": {
        "id": "z5Vxm6nXNc0p"
      },
      "source": [
        "### Specify the model architecture\n",
        "\n",
        "You will see that all steps below are mostly the same as training a `Average Word Vector` sentiment analysis model. Here we use `MobileBert` model specification instead of the `Average Word Vector` specification."
      ]
    },
    {
      "cell_type": "code",
      "metadata": {
        "id": "0LtB_6iJNc0q"
      },
      "source": [
        "mb_spec = model_spec.get('mobilebert_classifier')"
      ],
      "execution_count": null,
      "outputs": []
    },
    {
      "cell_type": "markdown",
      "metadata": {
        "id": "VQtxxFFXNc0s"
      },
      "source": [
        "### Pre-process data\n",
        "Convert the SST-2 dataset to input format that is required by TFLite Model Maker. As `MobileBERT` models and `Average Word Vector` models take different input format, we'll need to run the data preprocess step again."
      ]
    },
    {
      "cell_type": "code",
      "metadata": {
        "id": "x31sYjOhNc0t"
      },
      "source": [
        "mb_train_data = DataLoader.from_csv(\n",
        "      filename=os.path.join(os.path.join(data_dir, 'train.tsv')),\n",
        "      text_column='sentence',\n",
        "      label_column='label',\n",
        "      model_spec=mb_spec,\n",
        "      delimiter='\\t',\n",
        "      is_training=True)\n",
        "mb_test_data = DataLoader.from_csv(\n",
        "      filename=os.path.join(os.path.join(data_dir, 'dev.tsv')),\n",
        "      text_column='sentence',\n",
        "      label_column='label',\n",
        "      model_spec=mb_spec,\n",
        "      delimiter='\\t',\n",
        "      is_training=False)"
      ],
      "execution_count": null,
      "outputs": []
    },
    {
      "cell_type": "markdown",
      "metadata": {
        "id": "a_q2J6XMNc0w"
      },
      "source": [
        "### Train the model\n",
        "We use TFLite Model Maker to train a TensorFlow model with the training dataset."
      ]
    },
    {
      "cell_type": "code",
      "metadata": {
        "id": "U2aSwMhsNc0x"
      },
      "source": [
        "mb_model = text_classifier.create(mb_train_data, model_spec=mb_spec, epochs=3)"
      ],
      "execution_count": null,
      "outputs": []
    },
    {
      "cell_type": "markdown",
      "metadata": {
        "id": "Tt9euSVBNc00"
      },
      "source": [
        "### Evaluate the model\n",
        "\n",
        "Let's see how the model performs against new data in the evaluation dataset that it has never seen before."
      ]
    },
    {
      "cell_type": "code",
      "metadata": {
        "id": "j95FMIgxNc00"
      },
      "source": [
        "mb_model.evaluate(mb_test_data)"
      ],
      "execution_count": null,
      "outputs": []
    },
    {
      "cell_type": "markdown",
      "metadata": {
        "id": "ZYlHbGkaNc03"
      },
      "source": [
        "### Export the model into TensorFlow Lite format"
      ]
    },
    {
      "cell_type": "code",
      "metadata": {
        "id": "CKtUucRUNc03"
      },
      "source": [
        "mb_model.export(export_dir='mobilebert/')"
      ],
      "execution_count": null,
      "outputs": []
    },
    {
      "cell_type": "markdown",
      "metadata": {
        "id": "HgYp2m_2Qw14"
      },
      "source": [
        "## Optional: Compare the two models\n",
        "\n",
        "Let's see the model size:"
      ]
    },
    {
      "cell_type": "code",
      "metadata": {
        "id": "5HCXbC9bQ6XD"
      },
      "source": [
        "print('Average Word Vector')\n",
        "!ls -all --block-size=KB average_word_vec/*.tflite\n",
        "print('MobileBERT')\n",
        "!ls -all --block-size=KB mobilebert/*.tflite"
      ],
      "execution_count": null,
      "outputs": []
    },
    {
      "cell_type": "markdown",
      "metadata": {
        "id": "ITSl4t_ORq0U"
      },
      "source": [
        "You can optionally use the [TFLite benchmark tool](https://www.tensorflow.org/lite/performance/measurement#benchmark_tools) to measure the each model speed on mobile phones. The model speed of a certain model architecture does not change no matter which dataset you use to train the model. Therefore, you can refer to the model speed data on TensorFlow Lite website without running the benchmark by yourself.\n",
        "\n",
        "Let's compare our two sentiment analysis models:\n",
        "\n",
        "| Model Architecture | Accuracy | Size | Speed |\n",
        "|-|-|-|-|\n",
        "| Average Word Vector | 83% | 0.77MB | 0.05ms |\n",
        "| MobileBERT | 90% | 25.7MB | 83ms |\n",
        "\n",
        "*Note: Model speed was measured on Pixel 4 CPU, running on 2 threads.*"
      ]
    },
    {
      "cell_type": "markdown",
      "metadata": {
        "id": "Oz79xsy2x1_e"
      },
      "source": [
        "## Download the TFLite model.\n",
        "\n",
        "We want to start small with a light-weight model, so the `Average Word Vector` model seems to be more suitable for our use case. Let's download it."
      ]
    },
    {
      "cell_type": "code",
      "metadata": {
        "id": "Sr5edyAqNKmR"
      },
      "source": [
        "!cp average_word_vec/model.tflite sentiment_analysis.tflite\n",
        "\n",
        "from google.colab import files\n",
        "files.download('sentiment_analysis.tflite') "
      ],
      "execution_count": null,
      "outputs": []
    },
    {
      "cell_type": "markdown",
      "metadata": {
        "id": "VuHyfm_64RXn"
      },
      "source": [
        "Now you have finished training the two TFLite sentiment analysis models. Let's go back to the next step in the codelab."
      ]
    }
  ]
}