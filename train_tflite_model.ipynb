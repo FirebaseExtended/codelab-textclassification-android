{
  "nbformat": 4,
  "nbformat_minor": 0,
  "metadata": {
    "colab": {
      "name": "Train text classification models with TFLite Model Maker.ipynb",
      "provenance": [],
      "collapsed_sections": [],
      "toc_visible": true
    },
    "kernelspec": {
      "name": "python3",
      "display_name": "Python 3"
    },
    "accelerator": "GPU"
  },
  "cells": [
    {
      "cell_type": "markdown",
      "metadata": {
        "id": "ueWs88mW64dQ"
      },
      "source": [
        "##### Copyright 2020 The TensorFlow Authors."
      ]
    },
    {
      "cell_type": "code",
      "metadata": {
        "id": "lKuRIgOe6tN8",
        "cellView": "form"
      },
      "source": [
        "#@title Licensed under the Apache License, Version 2.0 (the \"License\");\n",
        "# you may not use this file except in compliance with the License.\n",
        "# You may obtain a copy of the License at\n",
        "#\n",
        "# https://www.apache.org/licenses/LICENSE-2.0\n",
        "#\n",
        "# Unless required by applicable law or agreed to in writing, software\n",
        "# distributed under the License is distributed on an \"AS IS\" BASIS,\n",
        "# WITHOUT WARRANTIES OR CONDITIONS OF ANY KIND, either express or implied.\n",
        "# See the License for the specific language governing permissions and\n",
        "# limitations under the License."
      ],
      "execution_count": null,
      "outputs": []
    },
    {
      "cell_type": "markdown",
      "metadata": {
        "id": "TyF17hj-CBW0"
      },
      "source": [
        "## Train sentiment analysis models with TensorFlow Lite Model Maker\n",
        "\n",
        "In this step, we will use the [Stanford Sentiment Treebank v2](https://nlp.stanford.edu/~socherr/EMNLP2013_RNTN.pdf)(SST-2) dataset to train the model. The dataset contains more than 11,000 sentences from movie reviews and the sentiment (positive or negative) of each sentence. Here is some examples from the dataset:\n",
        "\n",
        "| Sentence | Sentiment |\n",
        "|-|-|\n",
        "| This is a film well worth seeing , talking and singing heads and all . | Positive |\n",
        "| What really surprises about Wisegirls is its low-key quality and genuine tenderness . | Positive |\n",
        "| Though everything might be literate and smart , it never took off and always seemed static . | Negative |\n",
        "\n",
        "We will use TensorFlow Lite Model Maker to train **text classification** models with this dataset. **Sentiment analysis** is one type of **text classification** because its goal is to classify a body of text into positive or negative sentiment. We will train two models:\n",
        "* An `average word vector` model: This is a light-weight model which is less 1MB and also runs very fast.\n",
        "* A `MobileBERT` model: This is a more accurate but larger model.\n",
        "\n",
        "You also can choose a model architecture in advance and train only one model. However, it is recommended to train multiple models with different architecture and examine the trade-off between model size and accuracy and see which model is more suitable for your use case.\n",
        "\n",
        "*Note: Before you proceed, make sure that the Colab notebook is in GPU mode to speed up model training.*"
      ]
    },
    {
      "cell_type": "markdown",
      "metadata": {
        "id": "Emuo3vN6HHgR"
      },
      "source": [
        "### Install the required packages\n",
        "\n",
        "Let's start by installing TFLite Model Maker and import the required packages."
      ]
    },
    {
      "cell_type": "code",
      "metadata": {
        "id": "Y3hEKemiHTcs",
        "outputId": "bd823a7b-938c-4be2-9574-3a79e4f06dbd",
        "colab": {
          "base_uri": "https://localhost:8080/"
        }
      },
      "source": [
        "!pip install -q tflite-model-maker"
      ],
      "execution_count": null,
      "outputs": [
        {
          "output_type": "stream",
          "text": [
            "\u001b[K     |████████████████████████████████| 112kB 2.9MB/s \n",
            "\u001b[K     |████████████████████████████████| 1.1MB 9.0MB/s \n",
            "\u001b[K     |████████████████████████████████| 849kB 17.2MB/s \n",
            "\u001b[K     |████████████████████████████████| 81kB 9.0MB/s \n",
            "\u001b[K     |████████████████████████████████| 1.0MB 20.6MB/s \n",
            "\u001b[K     |████████████████████████████████| 325.1MB 50kB/s \n",
            "\u001b[K     |████████████████████████████████| 174kB 53.1MB/s \n",
            "\u001b[K     |████████████████████████████████| 358kB 53.3MB/s \n",
            "\u001b[K     |████████████████████████████████| 102kB 12.9MB/s \n",
            "\u001b[K     |████████████████████████████████| 36.7MB 65kB/s \n",
            "\u001b[K     |████████████████████████████████| 296kB 50.6MB/s \n",
            "\u001b[K     |████████████████████████████████| 471kB 51.1MB/s \n",
            "\u001b[K     |████████████████████████████████| 10.6MB 175kB/s \n",
            "\u001b[?25h  Building wheel for fire (setup.py) ... \u001b[?25l\u001b[?25hdone\n",
            "  Building wheel for py-cpuinfo (setup.py) ... \u001b[?25l\u001b[?25hdone\n"
          ],
          "name": "stdout"
        }
      ]
    },
    {
      "cell_type": "code",
      "metadata": {
        "id": "60bgUw9CHrLg"
      },
      "source": [
        "import numpy as np\n",
        "import os\n",
        "\n",
        "import tensorflow as tf\n",
        "assert tf.__version__.startswith('2')\n",
        "\n",
        "from tflite_model_maker import configs\n",
        "from tflite_model_maker import ExportFormat\n",
        "from tflite_model_maker import model_spec\n",
        "from tflite_model_maker import text_classifier\n",
        "from tflite_model_maker import TextClassifierDataLoader"
      ],
      "execution_count": null,
      "outputs": []
    },
    {
      "cell_type": "markdown",
      "metadata": {
        "id": "tQV0AGk0GzcZ"
      },
      "source": [
        "### Download the SST-2 dataset"
      ]
    },
    {
      "cell_type": "code",
      "metadata": {
        "id": "T1w4EXleB7Or",
        "outputId": "450c8fee-2e1b-44df-801c-8d28b9c8cc4c",
        "colab": {
          "base_uri": "https://localhost:8080/"
        }
      },
      "source": [
        "data_dir = tf.keras.utils.get_file(\n",
        "      fname='SST-2.zip',\n",
        "      origin='https://firebasestorage.googleapis.com/v0/b/mtl-sentence-representations.appspot.com/o/data%2FSST-2.zip?alt=media&token=aabc5f6b-e466-44a2-b9b4-cf6337f84ac8',\n",
        "      extract=True)\n",
        "data_dir = os.path.join(os.path.dirname(data_dir), 'SST-2')"
      ],
      "execution_count": null,
      "outputs": [
        {
          "output_type": "stream",
          "text": [
            "Downloading data from https://firebasestorage.googleapis.com/v0/b/mtl-sentence-representations.appspot.com/o/data%2FSST-2.zip?alt=media&token=aabc5f6b-e466-44a2-b9b4-cf6337f84ac8\n",
            "7446528/7439277 [==============================] - 0s 0us/step\n"
          ],
          "name": "stdout"
        }
      ]
    },
    {
      "cell_type": "markdown",
      "metadata": {
        "id": "8mE7O0f8IWlD"
      },
      "source": [
        "## Train our first model: an `Average Word Vector` model\n",
        "\n",
        "This is the light-weight model architecture that can be trained in a few minutes. The model is small and runs fast with decent accuracy."
      ]
    },
    {
      "cell_type": "markdown",
      "metadata": {
        "id": "QBYmPuWkIthx"
      },
      "source": [
        "### Specify the model architecture"
      ]
    },
    {
      "cell_type": "code",
      "metadata": {
        "id": "5uqVRE7zIjU0"
      },
      "source": [
        "awv_spec = model_spec.get('average_word_vec')"
      ],
      "execution_count": null,
      "outputs": []
    },
    {
      "cell_type": "markdown",
      "metadata": {
        "id": "GeP5Np-IIFF3"
      },
      "source": [
        "### Pre-process data\n",
        "Convert the SST-2 dataset to input format that is required by TFLite Model Maker. Please note that there are two portion of our dataset:\n",
        "* `train.tsv`: The **training** dataset that the model will learn from.\n",
        "* `dev.tsv`: The **evaluation** dataset that the model doesn't see when it is trained. This is used to test if the sentiment analysis is able to generalize well on new data that it has never seen before."
      ]
    },
    {
      "cell_type": "code",
      "metadata": {
        "id": "2h9s8IVyIEmS",
        "outputId": "420c2048-791c-41af-f40c-59069ecc3549",
        "colab": {
          "base_uri": "https://localhost:8080/"
        }
      },
      "source": [
        "awv_train_data = TextClassifierDataLoader.from_csv(\n",
        "      filename=os.path.join(os.path.join(data_dir, 'train.tsv')),\n",
        "      text_column='sentence',\n",
        "      label_column='label',\n",
        "      model_spec=awv_spec,\n",
        "      delimiter='\\t',\n",
        "      is_training=True)\n",
        "awv_test_data = TextClassifierDataLoader.from_csv(\n",
        "      filename=os.path.join(os.path.join(data_dir, 'dev.tsv')),\n",
        "      text_column='sentence',\n",
        "      label_column='label',\n",
        "      model_spec=awv_spec,\n",
        "      delimiter='\\t',\n",
        "      is_training=False)"
      ],
      "execution_count": null,
      "outputs": [
        {
          "output_type": "stream",
          "text": [
            "INFO:tensorflow:Saved vocabulary in /tmp/tmp5d0k8tzt/e72d242a17446c5dc91aa41e181ce914_vocab.\n"
          ],
          "name": "stdout"
        }
      ]
    },
    {
      "cell_type": "markdown",
      "metadata": {
        "id": "-N21UUIeI1MU"
      },
      "source": [
        "### Train the model\n",
        "We use TFLite Model Maker to train a TensorFlow model with the training dataset."
      ]
    },
    {
      "cell_type": "code",
      "metadata": {
        "id": "8PkcNAh6I859",
        "outputId": "abc50a5a-843f-4534-fd2e-f903c1fa03c6",
        "colab": {
          "base_uri": "https://localhost:8080/"
        }
      },
      "source": [
        "awv_model = text_classifier.create(awv_train_data, model_spec=awv_spec, epochs=10)"
      ],
      "execution_count": null,
      "outputs": [
        {
          "output_type": "stream",
          "text": [
            "INFO:tensorflow:Retraining the models...\n"
          ],
          "name": "stdout"
        },
        {
          "output_type": "stream",
          "text": [
            "INFO:tensorflow:Retraining the models...\n"
          ],
          "name": "stderr"
        },
        {
          "output_type": "stream",
          "text": [
            "Epoch 1/10\n",
            "2104/2104 [==============================] - 12s 6ms/step - loss: 0.6846 - accuracy: 0.5565\n",
            "Epoch 2/10\n",
            "2104/2104 [==============================] - 10s 5ms/step - loss: 0.5802 - accuracy: 0.7036\n",
            "Epoch 3/10\n",
            "2104/2104 [==============================] - 10s 5ms/step - loss: 0.4430 - accuracy: 0.7988\n",
            "Epoch 4/10\n",
            "2104/2104 [==============================] - 10s 5ms/step - loss: 0.3955 - accuracy: 0.8281\n",
            "Epoch 5/10\n",
            "2104/2104 [==============================] - 10s 5ms/step - loss: 0.3711 - accuracy: 0.8411\n",
            "Epoch 6/10\n",
            "2104/2104 [==============================] - 10s 5ms/step - loss: 0.3557 - accuracy: 0.8495\n",
            "Epoch 7/10\n",
            "2104/2104 [==============================] - 10s 5ms/step - loss: 0.3434 - accuracy: 0.8576\n",
            "Epoch 8/10\n",
            "2104/2104 [==============================] - 10s 5ms/step - loss: 0.3357 - accuracy: 0.8605\n",
            "Epoch 9/10\n",
            "2104/2104 [==============================] - 10s 5ms/step - loss: 0.3288 - accuracy: 0.8629\n",
            "Epoch 10/10\n",
            "2104/2104 [==============================] - 10s 5ms/step - loss: 0.3237 - accuracy: 0.8659\n"
          ],
          "name": "stdout"
        }
      ]
    },
    {
      "cell_type": "markdown",
      "metadata": {
        "id": "yoBLTfv-IDYd"
      },
      "source": [
        "### Evaluate the model\n",
        "\n",
        "Let's see how the model performs against new data in the evaluation dataset that it has never seen before."
      ]
    },
    {
      "cell_type": "code",
      "metadata": {
        "id": "z5rxsIG9JhKB",
        "outputId": "d8f6de66-f8d1-44a5-a234-189e2c7b68b3",
        "colab": {
          "base_uri": "https://localhost:8080/"
        }
      },
      "source": [
        "awv_model.evaluate(awv_test_data)"
      ],
      "execution_count": null,
      "outputs": [
        {
          "output_type": "stream",
          "text": [
            "28/28 [==============================] - 0s 9ms/step - loss: 0.5168 - accuracy: 0.8303\n"
          ],
          "name": "stdout"
        },
        {
          "output_type": "execute_result",
          "data": {
            "text/plain": [
              "[0.5167555809020996, 0.8302752375602722]"
            ]
          },
          "metadata": {
            "tags": []
          },
          "execution_count": 8
        }
      ]
    },
    {
      "cell_type": "markdown",
      "metadata": {
        "id": "7yZcFfVyJiVf"
      },
      "source": [
        "### Export the model into TensorFlow Lite format"
      ]
    },
    {
      "cell_type": "code",
      "metadata": {
        "id": "qxFPFO6eJl2A",
        "outputId": "0eefd9c0-b182-4adc-b8e2-98e8a54eacc1",
        "colab": {
          "base_uri": "https://localhost:8080/"
        }
      },
      "source": [
        "awv_model.export(export_dir='average_word_vec/')"
      ],
      "execution_count": null,
      "outputs": [
        {
          "output_type": "stream",
          "text": [
            "WARNING:tensorflow:From /usr/local/lib/python3.6/dist-packages/tensorflow/python/training/tracking/tracking.py:111: Model.state_updates (from tensorflow.python.keras.engine.training) is deprecated and will be removed in a future version.\n",
            "Instructions for updating:\n",
            "This property should not be used in TensorFlow 2.0, as updates are applied automatically.\n"
          ],
          "name": "stdout"
        },
        {
          "output_type": "stream",
          "text": [
            "WARNING:tensorflow:From /usr/local/lib/python3.6/dist-packages/tensorflow/python/training/tracking/tracking.py:111: Model.state_updates (from tensorflow.python.keras.engine.training) is deprecated and will be removed in a future version.\n",
            "Instructions for updating:\n",
            "This property should not be used in TensorFlow 2.0, as updates are applied automatically.\n"
          ],
          "name": "stderr"
        },
        {
          "output_type": "stream",
          "text": [
            "WARNING:tensorflow:From /usr/local/lib/python3.6/dist-packages/tensorflow/python/training/tracking/tracking.py:111: Layer.updates (from tensorflow.python.keras.engine.base_layer) is deprecated and will be removed in a future version.\n",
            "Instructions for updating:\n",
            "This property should not be used in TensorFlow 2.0, as updates are applied automatically.\n"
          ],
          "name": "stdout"
        },
        {
          "output_type": "stream",
          "text": [
            "WARNING:tensorflow:From /usr/local/lib/python3.6/dist-packages/tensorflow/python/training/tracking/tracking.py:111: Layer.updates (from tensorflow.python.keras.engine.base_layer) is deprecated and will be removed in a future version.\n",
            "Instructions for updating:\n",
            "This property should not be used in TensorFlow 2.0, as updates are applied automatically.\n"
          ],
          "name": "stderr"
        },
        {
          "output_type": "stream",
          "text": [
            "INFO:tensorflow:Assets written to: /tmp/tmpz9sm8akr/assets\n"
          ],
          "name": "stdout"
        },
        {
          "output_type": "stream",
          "text": [
            "INFO:tensorflow:Assets written to: /tmp/tmpz9sm8akr/assets\n"
          ],
          "name": "stderr"
        },
        {
          "output_type": "stream",
          "text": [
            "INFO:tensorflow:Vocab file and label file are inside the TFLite model with metadata.\n"
          ],
          "name": "stdout"
        },
        {
          "output_type": "stream",
          "text": [
            "INFO:tensorflow:Vocab file and label file are inside the TFLite model with metadata.\n"
          ],
          "name": "stderr"
        },
        {
          "output_type": "stream",
          "text": [
            "INFO:tensorflow:Saved vocabulary in /tmp/tmphl5pl6r1/vocab.txt.\n"
          ],
          "name": "stdout"
        },
        {
          "output_type": "stream",
          "text": [
            "INFO:tensorflow:Saved vocabulary in /tmp/tmphl5pl6r1/vocab.txt.\n"
          ],
          "name": "stderr"
        },
        {
          "output_type": "stream",
          "text": [
            "INFO:tensorflow:Saving labels in /tmp/tmphl5pl6r1/labels.txt.\n"
          ],
          "name": "stdout"
        },
        {
          "output_type": "stream",
          "text": [
            "INFO:tensorflow:Saving labels in /tmp/tmphl5pl6r1/labels.txt.\n"
          ],
          "name": "stderr"
        },
        {
          "output_type": "stream",
          "text": [
            "Finished populating metadata and associated file to the model:\n",
            "average_word_vec/model.tflite\n",
            "The metadata json file has been saved to:\n",
            "average_word_vec/model.json\n",
            "The associated file that has been been packed to the model is:\n",
            "['vocab.txt', 'labels.txt']\n"
          ],
          "name": "stdout"
        },
        {
          "output_type": "stream",
          "text": [
            "/usr/local/lib/python3.6/dist-packages/tensorflow_lite_support/metadata/metadata.py:344: UserWarning: File, 'vocab.txt', does not exsit in the metadata. But packing it to tflite model is still allowed.\n",
            "  \"tflite model is still allowed.\".format(f))\n"
          ],
          "name": "stderr"
        }
      ]
    },
    {
      "cell_type": "markdown",
      "metadata": {
        "id": "e-EOzxUgNfMg"
      },
      "source": [
        "## Optional: Train our second model: an `MobileBERT` model\n",
        "\n",
        "`MobileBERT` models are more accurate than `Average Word Vector` models but they are also larger. It will take about 30 minutes to be train our `MobileBERT` sentiment analysis model."
      ]
    },
    {
      "cell_type": "markdown",
      "metadata": {
        "id": "z5Vxm6nXNc0p"
      },
      "source": [
        "### Specify the model architecture\n",
        "\n",
        "You will see that all steps below are mostly the same as training a `Average Word Vector` sentiment analysis model. Here we use `MobileBert` model specification instead of the `Average Word Vector` specification."
      ]
    },
    {
      "cell_type": "code",
      "metadata": {
        "id": "0LtB_6iJNc0q"
      },
      "source": [
        "mb_spec = model_spec.get('mobilebert_classifier')"
      ],
      "execution_count": null,
      "outputs": []
    },
    {
      "cell_type": "markdown",
      "metadata": {
        "id": "VQtxxFFXNc0s"
      },
      "source": [
        "### Pre-process data\n",
        "Convert the SST-2 dataset to input format that is required by TFLite Model Maker. As `MobileBERT` models and `Average Word Vector` models take different input format, we'll need to run the data preprocess step again."
      ]
    },
    {
      "cell_type": "code",
      "metadata": {
        "id": "x31sYjOhNc0t"
      },
      "source": [
        "mb_train_data = TextClassifierDataLoader.from_csv(\n",
        "      filename=os.path.join(os.path.join(data_dir, 'train.tsv')),\n",
        "      text_column='sentence',\n",
        "      label_column='label',\n",
        "      model_spec=mb_spec,\n",
        "      delimiter='\\t',\n",
        "      is_training=True)\n",
        "mb_test_data = TextClassifierDataLoader.from_csv(\n",
        "      filename=os.path.join(os.path.join(data_dir, 'dev.tsv')),\n",
        "      text_column='sentence',\n",
        "      label_column='label',\n",
        "      model_spec=mb_spec,\n",
        "      delimiter='\\t',\n",
        "      is_training=False)"
      ],
      "execution_count": null,
      "outputs": []
    },
    {
      "cell_type": "markdown",
      "metadata": {
        "id": "a_q2J6XMNc0w"
      },
      "source": [
        "### Train the model\n",
        "We use TFLite Model Maker to train a TensorFlow model with the training dataset."
      ]
    },
    {
      "cell_type": "code",
      "metadata": {
        "id": "U2aSwMhsNc0x",
        "outputId": "a20a5441-6687-4d26-e184-6519abc7fdc8",
        "colab": {
          "base_uri": "https://localhost:8080/"
        }
      },
      "source": [
        "mb_model = text_classifier.create(mb_train_data, model_spec=mb_spec, epochs=3)"
      ],
      "execution_count": null,
      "outputs": [
        {
          "output_type": "stream",
          "text": [
            "INFO:tensorflow:Retraining the models...\n"
          ],
          "name": "stdout"
        },
        {
          "output_type": "stream",
          "text": [
            "INFO:tensorflow:Retraining the models...\n"
          ],
          "name": "stderr"
        },
        {
          "output_type": "stream",
          "text": [
            "WARNING:tensorflow:Automatic model reloading for interrupted job was removed from the `ModelCheckpoint` callback in multi-worker mode, please use the `keras.callbacks.experimental.BackupAndRestore` callback instead. See this tutorial for details: https://www.tensorflow.org/tutorials/distribute/multi_worker_with_keras#backupandrestore_callback.\n"
          ],
          "name": "stdout"
        },
        {
          "output_type": "stream",
          "text": [
            "WARNING:tensorflow:Automatic model reloading for interrupted job was removed from the `ModelCheckpoint` callback in multi-worker mode, please use the `keras.callbacks.experimental.BackupAndRestore` callback instead. See this tutorial for details: https://www.tensorflow.org/tutorials/distribute/multi_worker_with_keras#backupandrestore_callback.\n"
          ],
          "name": "stderr"
        },
        {
          "output_type": "stream",
          "text": [
            "Epoch 1/2\n",
            "   1/1403 [..............................] - ETA: 18:19:26 - loss: 6.2104 - test_accuracy: 0.5417WARNING:tensorflow:From /usr/local/lib/python3.6/dist-packages/tensorflow/python/ops/summary_ops_v2.py:1371: stop (from tensorflow.python.eager.profiler) is deprecated and will be removed after 2020-07-01.\n",
            "Instructions for updating:\n",
            "use `tf.profiler.experimental.stop` instead.\n"
          ],
          "name": "stdout"
        },
        {
          "output_type": "stream",
          "text": [
            "WARNING:tensorflow:From /usr/local/lib/python3.6/dist-packages/tensorflow/python/ops/summary_ops_v2.py:1371: stop (from tensorflow.python.eager.profiler) is deprecated and will be removed after 2020-07-01.\n",
            "Instructions for updating:\n",
            "use `tf.profiler.experimental.stop` instead.\n"
          ],
          "name": "stderr"
        },
        {
          "output_type": "stream",
          "text": [
            "\b\b\b\b\b\b\b\b\b\b\b\b\b\b\b\b\b\b\b\b\b\b\b\b\b\b\b\b\b\b\b\b\b\b\b\b\b\b\b\b\b\b\b\b\b\b\b\b\b\b\b\b\b\b\b\b\b\b\b\b\b\b\b\b\b\b\b\b\b\b\b\b\b\b\b\b\b\b\b\b\b\b\b\b\b\b\b\b\b\b\b\b\b\b\b\b\b\r   2/1403 [..............................] - ETA: 9:25:17 - loss: 6.6119 - test_accuracy: 0.5312 WARNING:tensorflow:Callbacks method `on_train_batch_end` is slow compared to the batch time (batch time: 0.4344s vs `on_train_batch_end` time: 0.9315s). Check your callbacks.\n"
          ],
          "name": "stdout"
        },
        {
          "output_type": "stream",
          "text": [
            "WARNING:tensorflow:Callbacks method `on_train_batch_end` is slow compared to the batch time (batch time: 0.4344s vs `on_train_batch_end` time: 0.9315s). Check your callbacks.\n"
          ],
          "name": "stderr"
        },
        {
          "output_type": "stream",
          "text": [
            "1403/1403 [==============================] - 640s 456ms/step - loss: 1.1017 - test_accuracy: 0.6984\n",
            "Epoch 2/2\n",
            "1403/1403 [==============================] - 594s 423ms/step - loss: 0.2188 - test_accuracy: 0.9131\n"
          ],
          "name": "stdout"
        }
      ]
    },
    {
      "cell_type": "markdown",
      "metadata": {
        "id": "Tt9euSVBNc00"
      },
      "source": [
        "### Evaluate the model\n",
        "\n",
        "Let's see how the model performs against new data in the evaluation dataset that it has never seen before."
      ]
    },
    {
      "cell_type": "code",
      "metadata": {
        "id": "j95FMIgxNc00",
        "outputId": "64fbb8c1-be11-4913-82f0-ada9c7553cb9",
        "colab": {
          "base_uri": "https://localhost:8080/"
        }
      },
      "source": [
        "mb_model.evaluate(mb_test_data)"
      ],
      "execution_count": null,
      "outputs": [
        {
          "output_type": "stream",
          "text": [
            "28/28 [==============================] - 7s 255ms/step - loss: 0.2671 - test_accuracy: 0.9002\n"
          ],
          "name": "stdout"
        },
        {
          "output_type": "execute_result",
          "data": {
            "text/plain": [
              "[0.26705214381217957, 0.9002293348312378]"
            ]
          },
          "metadata": {
            "tags": []
          },
          "execution_count": 13
        }
      ]
    },
    {
      "cell_type": "markdown",
      "metadata": {
        "id": "ZYlHbGkaNc03"
      },
      "source": [
        "### Export the model into TensorFlow Lite format\n",
        "\n",
        "There is a slight different between the export code for `MobileBERT` compared to the `Average Word Vector`. As `MobileBERT` model size is large, we apply [quantization](https://www.tensorflow.org/lite/performance/post_training_quantization) when exporting to TFLite format to reduce the model size by about 4 times."
      ]
    },
    {
      "cell_type": "code",
      "metadata": {
        "id": "CKtUucRUNc03",
        "outputId": "56859c68-48f7-4089-dd2a-ee179e12257a",
        "colab": {
          "base_uri": "https://localhost:8080/"
        }
      },
      "source": [
        "config = configs.QuantizationConfig.create_dynamic_range_quantization(optimizations=[tf.lite.Optimize.DEFAULT])\n",
        "config._experimental_new_quantizer = True\n",
        "\n",
        "mb_model.export(export_dir='mobilebert/', quantization_config=config)"
      ],
      "execution_count": null,
      "outputs": [
        {
          "output_type": "stream",
          "text": [
            "INFO:tensorflow:Assets written to: /tmp/tmpl28ytd6b/saved_model/assets\n"
          ],
          "name": "stdout"
        },
        {
          "output_type": "stream",
          "text": [
            "INFO:tensorflow:Assets written to: /tmp/tmpl28ytd6b/saved_model/assets\n"
          ],
          "name": "stderr"
        },
        {
          "output_type": "stream",
          "text": [
            "INFO:tensorflow:Vocab file and label file are inside the TFLite model with metadata.\n"
          ],
          "name": "stdout"
        },
        {
          "output_type": "stream",
          "text": [
            "INFO:tensorflow:Vocab file and label file are inside the TFLite model with metadata.\n"
          ],
          "name": "stderr"
        },
        {
          "output_type": "stream",
          "text": [
            "INFO:tensorflow:Saved vocabulary in /tmp/tmpigxjviyy/vocab.txt.\n"
          ],
          "name": "stdout"
        },
        {
          "output_type": "stream",
          "text": [
            "INFO:tensorflow:Saved vocabulary in /tmp/tmpigxjviyy/vocab.txt.\n"
          ],
          "name": "stderr"
        },
        {
          "output_type": "stream",
          "text": [
            "INFO:tensorflow:Saving labels in /tmp/tmpigxjviyy/labels.txt.\n"
          ],
          "name": "stdout"
        },
        {
          "output_type": "stream",
          "text": [
            "INFO:tensorflow:Saving labels in /tmp/tmpigxjviyy/labels.txt.\n"
          ],
          "name": "stderr"
        },
        {
          "output_type": "stream",
          "text": [
            "Finished populating metadata and associated file to the model:\n",
            "mobilebert/model.tflite\n",
            "The metadata json file has been saved to:\n",
            "mobilebert/model.json\n",
            "The associated file that has been been packed to the model is:\n",
            "['labels.txt', 'vocab.txt']\n"
          ],
          "name": "stdout"
        }
      ]
    },
    {
      "cell_type": "markdown",
      "metadata": {
        "id": "HgYp2m_2Qw14"
      },
      "source": [
        "## Optional: Compare the two models\n",
        "\n",
        "Let's see the model size:"
      ]
    },
    {
      "cell_type": "code",
      "metadata": {
        "id": "5HCXbC9bQ6XD",
        "outputId": "8d9bf801-6922-460b-9708-828c3da84035",
        "colab": {
          "base_uri": "https://localhost:8080/"
        }
      },
      "source": [
        "print('Average Word Vector')\n",
        "!ls -all --block-size=KB average_word_vec/*.tflite\n",
        "print('MobileBERT')\n",
        "!ls -all --block-size=KB mobilebert/*.tflite"
      ],
      "execution_count": null,
      "outputs": [
        {
          "output_type": "stream",
          "text": [
            "Average Word Vector\n",
            "-rw-r--r-- 1 root root 776kB Oct  2 05:26 average_word_vec/model.tflite\n",
            "MobileBERT\n",
            "-rw-r--r-- 1 root root 25708kB Oct  2 05:49 mobilebert/model.tflite\n"
          ],
          "name": "stdout"
        }
      ]
    },
    {
      "cell_type": "markdown",
      "metadata": {
        "id": "ITSl4t_ORq0U"
      },
      "source": [
        "You can optionally use the [TFLite benchmark tool](https://www.tensorflow.org/lite/performance/measurement#benchmark_tools) to measure the each model speed on mobile phones. The model speed of a certain model architecture does not change no matter which dataset you use to train the model. Therefore, you can refer to the model speed data on TensorFlow Lite website without running the benchmark by yourself.\n",
        "\n",
        "Let's compare our two sentiment analysis models:\n",
        "\n",
        "| Model Architecture | Accuracy | Size | Speed |\n",
        "|-|-|-|-|\n",
        "| Average Word Vector | 83% | 0.77MB | 0.05ms |\n",
        "| MobileBERT | 90% | 25.7MB | 83ms |\n",
        "\n",
        "*Note: Model speed was measured on Pixel 4 CPU, running on 2 threads.*"
      ]
    },
    {
      "cell_type": "markdown",
      "metadata": {
        "id": "Oz79xsy2x1_e"
      },
      "source": [
        "## Download the TFLite model.\n",
        "\n",
        "We want to start small with a light-weight model, so the `Average Word Vector` model seems to be more suitable for our use case. Let's download it."
      ]
    },
    {
      "cell_type": "code",
      "metadata": {
        "id": "Sr5edyAqNKmR",
        "outputId": "4f6ea483-aacd-4623-a68a-1789324e3b1e",
        "colab": {
          "base_uri": "https://localhost:8080/",
          "height": 17
        }
      },
      "source": [
        "!cp average_word_vec/model.tflite sentiment_analysis.tflite\n",
        "\n",
        "from google.colab import files\n",
        "files.download('sentiment_analysis.tflite') "
      ],
      "execution_count": null,
      "outputs": [
        {
          "output_type": "display_data",
          "data": {
            "application/javascript": [
              "\n",
              "    async function download(id, filename, size) {\n",
              "      if (!google.colab.kernel.accessAllowed) {\n",
              "        return;\n",
              "      }\n",
              "      const div = document.createElement('div');\n",
              "      const label = document.createElement('label');\n",
              "      label.textContent = `Downloading \"${filename}\": `;\n",
              "      div.appendChild(label);\n",
              "      const progress = document.createElement('progress');\n",
              "      progress.max = size;\n",
              "      div.appendChild(progress);\n",
              "      document.body.appendChild(div);\n",
              "\n",
              "      const buffers = [];\n",
              "      let downloaded = 0;\n",
              "\n",
              "      const channel = await google.colab.kernel.comms.open(id);\n",
              "      // Send a message to notify the kernel that we're ready.\n",
              "      channel.send({})\n",
              "\n",
              "      for await (const message of channel.messages) {\n",
              "        // Send a message to notify the kernel that we're ready.\n",
              "        channel.send({})\n",
              "        if (message.buffers) {\n",
              "          for (const buffer of message.buffers) {\n",
              "            buffers.push(buffer);\n",
              "            downloaded += buffer.byteLength;\n",
              "            progress.value = downloaded;\n",
              "          }\n",
              "        }\n",
              "      }\n",
              "      const blob = new Blob(buffers, {type: 'application/binary'});\n",
              "      const a = document.createElement('a');\n",
              "      a.href = window.URL.createObjectURL(blob);\n",
              "      a.download = filename;\n",
              "      div.appendChild(a);\n",
              "      a.click();\n",
              "      div.remove();\n",
              "    }\n",
              "  "
            ],
            "text/plain": [
              "<IPython.core.display.Javascript object>"
            ]
          },
          "metadata": {
            "tags": []
          }
        },
        {
          "output_type": "display_data",
          "data": {
            "application/javascript": [
              "download(\"download_41665880-f184-42f3-a837-1da8514ebd1f\", \"average_word_vec.tflite\", 775442)"
            ],
            "text/plain": [
              "<IPython.core.display.Javascript object>"
            ]
          },
          "metadata": {
            "tags": []
          }
        },
        {
          "output_type": "display_data",
          "data": {
            "application/javascript": [
              "\n",
              "    async function download(id, filename, size) {\n",
              "      if (!google.colab.kernel.accessAllowed) {\n",
              "        return;\n",
              "      }\n",
              "      const div = document.createElement('div');\n",
              "      const label = document.createElement('label');\n",
              "      label.textContent = `Downloading \"${filename}\": `;\n",
              "      div.appendChild(label);\n",
              "      const progress = document.createElement('progress');\n",
              "      progress.max = size;\n",
              "      div.appendChild(progress);\n",
              "      document.body.appendChild(div);\n",
              "\n",
              "      const buffers = [];\n",
              "      let downloaded = 0;\n",
              "\n",
              "      const channel = await google.colab.kernel.comms.open(id);\n",
              "      // Send a message to notify the kernel that we're ready.\n",
              "      channel.send({})\n",
              "\n",
              "      for await (const message of channel.messages) {\n",
              "        // Send a message to notify the kernel that we're ready.\n",
              "        channel.send({})\n",
              "        if (message.buffers) {\n",
              "          for (const buffer of message.buffers) {\n",
              "            buffers.push(buffer);\n",
              "            downloaded += buffer.byteLength;\n",
              "            progress.value = downloaded;\n",
              "          }\n",
              "        }\n",
              "      }\n",
              "      const blob = new Blob(buffers, {type: 'application/binary'});\n",
              "      const a = document.createElement('a');\n",
              "      a.href = window.URL.createObjectURL(blob);\n",
              "      a.download = filename;\n",
              "      div.appendChild(a);\n",
              "      a.click();\n",
              "      div.remove();\n",
              "    }\n",
              "  "
            ],
            "text/plain": [
              "<IPython.core.display.Javascript object>"
            ]
          },
          "metadata": {
            "tags": []
          }
        },
        {
          "output_type": "display_data",
          "data": {
            "application/javascript": [
              "download(\"download_5083cbe8-8f02-483f-8ed1-259972c3094e\", \"mobilebert.tflite\", 25707515)"
            ],
            "text/plain": [
              "<IPython.core.display.Javascript object>"
            ]
          },
          "metadata": {
            "tags": []
          }
        }
      ]
    },
    {
      "cell_type": "markdown",
      "metadata": {
        "id": "VuHyfm_64RXn"
      },
      "source": [
        "Now you have finished training the two TFLite sentiment analysis models. Let's go back to the next step in the codelab."
      ]
    }
  ]
}